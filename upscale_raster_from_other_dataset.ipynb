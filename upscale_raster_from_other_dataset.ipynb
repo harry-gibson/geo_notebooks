{
 "cells": [
  {
   "cell_type": "markdown",
   "metadata": {},
   "source": [
    "# Upscaling one raster dataset based on another\n",
    "\n",
    "### Statement of problem\n",
    "\n",
    "We have two raster timeseries datasets from different sources, nominally representing the same variable. One is at relatively high spatial resolution but is only annual in temporal resolution. The other is at coarse spatial resolution but is available at monthly (or finer) temporal resolution.\n",
    "\n",
    "We wish to combine the information from these datasets to interpolate higher-resolution monthly data. We use the principle:\n",
    "\n",
    "    HiRes(y,m) = LowRes(y,m) * HiRes(y) / sum(LowRes(y,1)..LowRes(y,12))\n",
    "\n",
    "or \n",
    "\n",
    "    HiRes(y,m) = LowRes(y,m) * HiRes(y) / mean(LowRes(y,1)..LowRes(y,12))\n",
    "\n",
    "This example is taken from [this paper](https://www.thelancet.com/journals/lanplh/article/PIIS2542-5196(19)30047-6/fulltext#supplementaryMaterial) (Eq2 of the supplementary material). Here the \"low resolution\" data are PM<sub>2.5</sub> rasters derived from MERRA-2, and the \"high resolution\" data are PM<sub>2.5</sub> rasters obtained from [this site](http://fizz.phys.dal.ca/~atmos/martin/?page_id=140). We would like to create monthly PM<sub>2.5</sub> rasters at the spatial resolution (0.01 degrees) of the annual dataset.\n",
    "\n",
    "(*However, the equation referenced uses the annual sum of the low-res data, but this seems to be wrong for a quantity such as PM2.5 where a mean is surely the correct approach. (The high-resolution annual data are not a \"sum\" of all the months, they are an annual average). Sum would be appropriate for e.g. precipitation.*)\n",
    "\n",
    "The basic challenge is thus to overlay and perform an array-wise calculation between two rasters which are of different sizes (resolution and extent). We will use rasterio to create a virtual raster from the low resolution rasters, which is warped and reprojected to the same extent and resolution as the high resolution raster."
   ]
  },
  {
   "cell_type": "code",
   "execution_count": 13,
   "metadata": {},
   "outputs": [],
   "source": [
    "import rasterio as rio\n",
    "from rasterio.crs import CRS\n",
    "from rasterio.enums import Resampling\n",
    "from rasterio import shutil as rio_shutil\n",
    "from rasterio.vrt import WarpedVRT\n",
    "import affine\n",
    "import numexpr as ne\n"
   ]
  },
  {
   "cell_type": "code",
   "execution_count": 2,
   "metadata": {},
   "outputs": [],
   "source": [
    "import os\n",
    "import glob"
   ]
  },
  {
   "cell_type": "code",
   "execution_count": 3,
   "metadata": {},
   "outputs": [],
   "source": [
    "import numpy as np"
   ]
  },
  {
   "cell_type": "code",
   "execution_count": 4,
   "metadata": {},
   "outputs": [],
   "source": [
    "from matplotlib import pyplot"
   ]
  },
  {
   "cell_type": "code",
   "execution_count": 5,
   "metadata": {},
   "outputs": [],
   "source": [
    "LOWRES_MONTHLY_FOLDER = r'D:\\InformalCities\\Data\\AirPollution\\MERRA-2_Subset\\PM_2p5_calc\\monthly'\n",
    "HIRES_ANNUAL_FOLDER = r'D:\\InformalCities\\Data\\AirPollution\\PM25\\UnCorrected'\n",
    "LOWRES_ANNUAL_AVG_FOLDER = os.path.join(os.path.dirname(LOWRES_MONTHLY_FOLDER), 'annual_mean')\n",
    "#acag_downscaled_output = r'F:\\InformalCities\\Data\\AirPollution\\PM25\\temporal_downscale_python'\n",
    "acag_downscaled_output = r'C:\\temp\\acag_downscaled'"
   ]
  },
  {
   "cell_type": "code",
   "execution_count": null,
   "metadata": {},
   "outputs": [],
   "source": [
    "merra_monthlies = glob.glob(os.path.join(LOWRES_MONTHLY_FOLDER, \"*.tif\"))\n",
    "merra_monthlies\n"
   ]
  },
  {
   "cell_type": "code",
   "execution_count": null,
   "metadata": {},
   "outputs": [],
   "source": [
    "acag_annuals = glob.glob(os.path.join(HIRES_ANNUAL_FOLDER, \"*.tif\"))\n",
    "acag_annuals"
   ]
  },
  {
   "cell_type": "code",
   "execution_count": 22,
   "metadata": {},
   "outputs": [],
   "source": [
    "years = range(2000,2019)"
   ]
  },
  {
   "cell_type": "code",
   "execution_count": 9,
   "metadata": {},
   "outputs": [],
   "source": [
    "with rio.open(merra_monthlies[0]) as merra_sample:\n",
    "    merra_bounds = merra_sample.bounds\n",
    "    merra_crs = merra_sample.crs\n",
    "    merra_shape = merra_sample.shape\n",
    "\n",
    "    "
   ]
  },
  {
   "cell_type": "markdown",
   "metadata": {},
   "source": [
    "Pre-process by summarising the merra monthly files to annual averages once, before upsampling.\n",
    "\n",
    "We also adjust the units at this stage as the MERRA-2 data are in kg/m3 and the ACAG data are in ug/m3"
   ]
  },
  {
   "cell_type": "code",
   "execution_count": null,
   "metadata": {},
   "outputs": [],
   "source": [
    "merra_annuals = {}\n",
    "for year in years:\n",
    "    monthlies = glob.glob(os.path.join(LOWRES_MONTHLY_FOLDER, f'MERRA2_Pm2p5.{year}.*'))\n",
    "    year_files = np.ma.empty(shape=(len(monthlies), merra_shape[0], merra_shape[1]))\n",
    "    profile = None\n",
    "    for i, f in enumerate(monthlies):\n",
    "        with rio.open(f) as src:\n",
    "            year_files[i]= src.read(1, masked=True)\n",
    "            if not profile:\n",
    "                profile = src.profile\n",
    "    # average of months, convert the units to match acag as well (ug/m3 rather than kg/m3)\n",
    "    year_avg = year_files.mean(axis=0) * 1e9\n",
    "    with rio.Env():\n",
    "        annual_path = os.path.join(LOWRES_ANNUAL_AVG_FOLDER, f'MERRA2_Pm2p5_AnnualAverage.{year}.tif')\n",
    "        with rio.open(annual_path, 'w', **profile) as dst:\n",
    "            dst.write(year_avg, 1)\n",
    "        merra_annuals[year] = annual_path                  "
   ]
  },
  {
   "cell_type": "markdown",
   "metadata": {},
   "source": [
    "### Perform upscaling calculation between ACAG and MERRA-2 data\n",
    "\n",
    "#### align merra-2 to acag using in-memory vrt\n",
    "We wish to do a vectorised / array operation between the data in the (0.1 degree) annual ACAG data and the (0.625 * 0.5) degree monthly MERRA-2 data, at the 0.1 degree resolution. So, we have to resample the MERRA-2 data into the same shape array.\n",
    "\n",
    "This would happen automatically / implicitly if performing a raster calculation in a GIS (albeit only with nearest neighbour resampling) but in python the code has to be written to do that.\n",
    "\n",
    "Using rasterio, if the datasets had the same extents but different cellsizes, we could simply read the data specifying the shape and the upsampling would happen automatically, e.g.\n",
    "\n",
    "```python\n",
    "with rio.open(merra_monthlies[0]) as src:\n",
    "    data2 = src.read(\n",
    "    out_shape=(1,acag_height, acag_width),\n",
    "    resampling=Resampling.bilinear)\n",
    "    tf2 = src.transform* src.transform.scale((src.width / data2.shape[-1]), (src.height / data2.shape[-2]))\n",
    "```\n",
    "\n",
    "However as they don't have the same extent OR resolution, we want to use a vrt to re-map it\n",
    " https://rasterio.readthedocs.io/en/latest/topics/virtual-warping.html\n",
    "\n",
    "Instead of nearest-neighbour we will use a bilinear interpolation of the coarse data to avoid a blocky / tiling effect in the upscaled data along the coarse cell boundaries. \n",
    "\n",
    "The following code will for each year:\n",
    " - read the annual high-resolution ACAG raster\n",
    " - read the (previously-created) annual average MERRA-2 raster, upsampling it on read using bilinear interpolation to the extent and shape matching the ACAG raster (arrays will be of same dimensions)\n",
    " - calculate the correction factor for this year\n",
    " - For each month in the year:\n",
    "   - Read the month's MERRA-2 raster, upsampling it in the same way as above\n",
    "   - Multiply it to get in same units as the ACAG-2 and merra annuals\n",
    "   - Multiply it by the year's correction factor raster\n",
    "   - Mask where either the ACAG or MERRA rasters were masked\n",
    "   \n",
    "We use numexpr for efficient multithreaded evaluation of the array calculations, and use multithreaded compression for efficient creation of the output geotiffs.\n"
   ]
  },
  {
   "cell_type": "code",
   "execution_count": null,
   "metadata": {},
   "outputs": [],
   "source": [
    "for year in years:\n",
    "    acag_raster_fn = glob.glob(os.path.join(HIRES_ANNUAL_FOLDER, \n",
    "                                            f'ACAG_PM25*{year}.tif'))[0]\n",
    "    with rio.open(acag_raster_fn) as acag_src:\n",
    "        profile = acag_src.profile\n",
    "        profile.update(dtype=rio.float64)\n",
    "        profile.update(num_threads=8)\n",
    "        left, bottom, right, top = acag_src.bounds\n",
    "        acag_height, acag_width = acag_src.shape\n",
    "        acag_xres = (right-left) / acag_width\n",
    "        acag_yres = (top-bottom) / acag_height\n",
    "        acag_transform = affine.Affine(acag_xres, 0.0, left, 0.0, -acag_yres, top)\n",
    "        acag_crs = acag_src.crs\n",
    "        vrt_options = {\n",
    "            'resampling': Resampling.bilinear,\n",
    "            'crs': acag_crs,\n",
    "            'transform': acag_transform,\n",
    "            'height': acag_height,\n",
    "            'width': acag_width,\n",
    "            'num_threads': 8\n",
    "        }\n",
    "        acag_data = acag_src.read(1, masked=True)\n",
    "    merra_annual_fn = (os.path.join(LOWRES_ANNUAL_AVG_FOLDER, \n",
    "                                    f'MERRA2_Pm2p5_AnnualAverage.{year}.tif'))     \n",
    "    #merra_annual_fn = merra_annuals[year]\n",
    "    with rio.open(merra_annual_fn) as merra_src:\n",
    "        with WarpedVRT(merra_src, **vrt_options) as vrt:\n",
    "            merra_annual_data = vrt.read(1, masked=True)\n",
    "    assert(acag_data.shape == merra_annual_data.shape)\n",
    "    corrector = ne.evaluate(\"acag_data / merra_annual_data\")\n",
    "    mask = np.logical_or(acag_data.mask, merra_annual_data.mask)\n",
    "    del(acag_data) # likely to be on the limits for a 16GB RAM machine so get rid asap\n",
    "    del(merra_annual_data)\n",
    "    monthlies = glob.glob(os.path.join(LOWRES_MONTHLY_FOLDER, f'MERRA2_Pm2p5.{year}.*'))\n",
    "    for merra_monthly_fn in monthlies:\n",
    "        _, t2, m, _ = merra_monthly_fn.split('.')\n",
    "        outname = os.path.join(acag_downscaled_output, f'ACAG_MERRA_PM2p5_Downscale.{year}.{m}.tif')\n",
    "        if os.path.exists(outname):\n",
    "            continue\n",
    "        with rio.open(merra_monthly_fn) as merra_src:\n",
    "            with WarpedVRT(merra_src, **vrt_options) as vrt:\n",
    "                merra_month_data = vrt.read(1, masked=True)\n",
    "        \n",
    "        downscaled_data = ne.evaluate(\"merra_month_data * 1e9 * corrector\")\n",
    "        downscaled_data[np.logical_or(mask, merra_month_data.mask)] = profile['nodata'] \n",
    "        del(merra_month_data)\n",
    "        with rio.open(outname, 'w', **profile) as dst:\n",
    "            dst.write(downscaled_data, 1)\n",
    "        "
   ]
  }
 ],
 "metadata": {
  "kernelspec": {
   "display_name": "Python 3",
   "language": "python",
   "name": "python3"
  },
  "language_info": {
   "codemirror_mode": {
    "name": "ipython",
    "version": 3
   },
   "file_extension": ".py",
   "mimetype": "text/x-python",
   "name": "python",
   "nbconvert_exporter": "python",
   "pygments_lexer": "ipython3",
   "version": "3.7.6"
  }
 },
 "nbformat": 4,
 "nbformat_minor": 4
}
