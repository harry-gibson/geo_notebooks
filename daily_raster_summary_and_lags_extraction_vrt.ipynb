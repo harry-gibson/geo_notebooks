{
 "cells": [
  {
   "cell_type": "markdown",
   "metadata": {},
   "source": [
    "# Lagged daily raster summarisation and point sampling\n",
    "\n",
    "### Description of the datasets\n",
    "\n",
    "We have a point dataset, in the form of a CSV file with lat/lon columns. \n",
    "\n",
    "Each row in the dataset represents a household as surveyed on a specific date. (In this instance the data are extracted from DHS household surveys.)\n",
    "\n",
    "Each household has a location (lat/lon) but many households are at the same location (for anonymity); the location is known as a cluster and is unique by surveyid and cluster_number. \n",
    "\n",
    "Numerous households will generally be surveyed on the same day, but not necessarily all those at a given location (cluster), and the households in one day will likely be spread across numerous clusters.\n",
    "\n",
    "We have a folder of rasters which represent DAILY data for a single variable of interest (i.e. one raster per day). Specifically, these are daily rainfall grids from the CHIRPS datasets. These are named such that the filename contains the date in the form `*YYYY.MM.DD*` i.e. 4 digits then a dot then 2 digits then a dot then 2 digits. The files have been downloaded but not unzipped.\n",
    "\n",
    "### Description of the task\n",
    "\n",
    "For each household we want to generate a time series of rainfall totals across 30-day periods, starting the 30-day period ending on the survey date, then the 30 days before that, etc, for a total of 13 * 30-day periods. That is, for each unique date on which surveys occurred we need to sample 390 daily rasters at the locations surveyed on that date, and summarise the results into 13 groups of 30 values. We need to eventually output a table that is like the input with 13 additional columns for the values at (d-30:3), (d-60:d-30), (d-90:d-60), etc.\n",
    "\n",
    "### Implementation\n",
    "\n",
    "I have implemented this in two ways. In this notebook, a version which runs locally and uses VRTs (virtual rasters) with a python derived raster band function to generate each summary directly from the (zipped) downloaded data. The other approach uses Google Earth Engine.\n"
   ]
  },
  {
   "cell_type": "code",
   "execution_count": 4,
   "metadata": {},
   "outputs": [],
   "source": [
    "import os\n",
    "import glob\n",
    "import rasterio as rio\n",
    "import pandas as pd"
   ]
  },
  {
   "cell_type": "markdown",
   "metadata": {},
   "source": [
    "Define a class to match images to dates and filter by date"
   ]
  },
  {
   "cell_type": "code",
   "execution_count": 5,
   "metadata": {},
   "outputs": [],
   "source": [
    "class ImageCollection:\n",
    "    def __init__(self, root_path, fn_pattern, parser):\n",
    "        matched_files = []\n",
    "        pattern = \"*.tif.gz\"\n",
    "        for dirpath, dirnames, files in os.walk(root_path):\n",
    "            for f in files:\n",
    "                matched_files.append(os.path.join(dirpath, f))\n",
    "        matched_files = glob.fnmatch.filter(matched_files, pattern)\n",
    "        parsed = [parser.parse(f) for f in matched_files]\n",
    "        self.date_path_dict = {t[0]:t[1] for t in parsed}\n",
    "    \n",
    "    def FilterDate(self, date_from, date_to):\n",
    "        return [v for k, v in self.date_path_dict.items() if k>=date_from and k < date_to]"
   ]
  },
  {
   "cell_type": "markdown",
   "metadata": {},
   "source": [
    "Define a class implementing a parse() function to enable use of the above ImageCollection class with differently-named data (produce an alternative to this class as necessary for data that are named differently)"
   ]
  },
  {
   "cell_type": "code",
   "execution_count": 6,
   "metadata": {},
   "outputs": [],
   "source": [
    "import datetime\n",
    "class ChirpsDailyFnParser:\n",
    "    \"\"\"Parses CHIRPS daily downloaded data in their gzipped format\"\"\"\n",
    "    def parse(self, fn):\n",
    "        basename = os.path.basename(fn)\n",
    "        _, _, yr, mth, day, _, _ = basename.split('.')\n",
    "        d  = datetime.date(int(yr), int(mth), int(day))\n",
    "        gdal_path = f\"/vsigzip/{fn}\"\n",
    "        return (d, gdal_path)"
   ]
  },
  {
   "cell_type": "markdown",
   "metadata": {},
   "source": [
    "Define a class which, given an ImageCollection, provides methods to derive pixel-wise sum rasters from subsets of the ImageCollection.\n",
    "\n",
    "For a requested date_from and date_to, defining a subset of dates, this is implemented by creating a .VRT raster definition that selects the relevant input datasets, and then uses a python derived raster band function to output a single band that is the sum of the input bands."
   ]
  },
  {
   "cell_type": "code",
   "execution_count": 7,
   "metadata": {},
   "outputs": [],
   "source": [
    "from rasterio.io import MemoryFile\n",
    "from contextlib import contextmanager\n",
    "class CollectionVirtualSummer():\n",
    "    _SIMPLE_SOURCE_TEMPLATE = \"\"\"\n",
    "    <SimpleSource>\n",
    "        <SourceFilename relativeToVRT=\"0\">{0!s}</SourceFilename>\n",
    "    </SimpleSource>\n",
    "    \"\"\"\n",
    "    _COMPLEX_SOURCE_TEMPLATE = \"\"\"\n",
    "    <ComplexSource>\n",
    "        <SourceFilename relativeToVRT=\"0\">{0!s}</SourceFilename>\n",
    "        <NODATA>{1}</NODATA>\n",
    "    </ComplexSource>\n",
    "    \"\"\"\n",
    "    _VRT_DEF_TEMPLATE = \"\"\"\n",
    "<VRTDataset rasterXSize=\"{0}\" rasterYSize=\"{1}\">\n",
    "    <SRS>EPSG:4326</SRS>\n",
    "    <GeoTransform>{2!s}</GeoTransform>\n",
    "    <VRTRasterBand dataType=\"Float32\" band=\"1\" subClass=\"VRTDerivedRasterBand\">\n",
    "        <PixelFunctionType>add</PixelFunctionType>\n",
    "        <PixelFunctionLanguage>Python</PixelFunctionLanguage>\n",
    "        <PixelFunctionCode><![CDATA[\n",
    "import numpy as np\n",
    "def add(in_ar, out_ar, xoff, yoff, xsize, ysize, raster_xsize,\n",
    "    raster_ysize, buf_radius, gt, **kwargs):\n",
    "        np.sum(in_ar, axis = 0, dtype = 'float32', out=out_ar)\n",
    "            ]]>\n",
    "        </PixelFunctionCode>\n",
    "        {3!s}\n",
    "    </VRTRasterBand>\n",
    "</VRTDataset>\n",
    "\"\"\"\n",
    "    def __init__(self, input_collection, force_ndv=None):\n",
    "        \"\"\"Creates a new raster summer, from a given ImageCollection. Use force_ndv to force a \n",
    "        particular value to be treated as nodata, if the input datasets do not have it defined or \n",
    "        if it's defined wrongly.\n",
    "        \n",
    "        All images in the ImageCollection must have same size, datatype, geotransform etc, behaviour \n",
    "        is undefined if they do not and this is not checked!\"\"\"\n",
    "        self._ImageCollection = input_collection\n",
    "        self.NDV_Force = force_ndv\n",
    "    \n",
    "    def _GetVrtDefinition(self, date_from, date_to):\n",
    "        \"\"\"Build the VRT definition xml string as it would be written to disk\"\"\"\n",
    "        file_list = self._ImageCollection.FilterDate(date_from, date_to)\n",
    "        # Set the size etc from the first matched file, if they are not all the same then \n",
    "        # bad things will happen so user beware\n",
    "        one_file = file_list[0]\n",
    "        with rio.open(one_file) as ds:\n",
    "            x_size = ds.width\n",
    "            y_size = ds.height\n",
    "            geo_trans = str(ds.get_transform()).strip('[').strip(']')\n",
    "            ndv_recorded = ds.get_nodatavals()[0]\n",
    "        ndv = None\n",
    "        if self.NDV_Force is not None:\n",
    "            ndv = self.NDV_Force\n",
    "        else:\n",
    "            ndv = ndv_recorded # None if not set on data\n",
    "        if ndv is None:\n",
    "            sources = \"\\n\".join(\n",
    "                [CollectionVirtualSummer._SIMPLE_SOURCE_TEMPLATE.format(f) for f in file_list]\n",
    "            )\n",
    "        else:\n",
    "            sources = \"\\n\".join(\n",
    "                [CollectionVirtualSummer._COMPLEX_SOURCE_TEMPLATE.format(f, ndv) for f in file_list]\n",
    "            )\n",
    "        vrt_definition_txt = CollectionVirtualSummer._VRT_DEF_TEMPLATE.format(\n",
    "            x_size, y_size, geo_trans, sources)\n",
    "        return vrt_definition_txt\n",
    "    \n",
    "    @contextmanager\n",
    "    def GetSumDataset(self, date_from, date_to):\n",
    "        \"\"\"Returns a rasterio dataset object with a single band representing the pixelwise \n",
    "        sum of the images from the ImageCollection matching the specified dates.\n",
    "        \n",
    "        Object is context managed: call this function like \n",
    "        \n",
    "        with v_summer.GetSumDataset(d_from, d_to) as ds:\n",
    "            do_things(ds)\n",
    "        \n",
    "        to ensure the memory is properly released after use\n",
    "        \"\"\"\n",
    "        vrt_text = self._GetVrtDefinition(date_from, date_to)\n",
    "        with rio.Env(GDAL_VRT_ENABLE_PYTHON=True):\n",
    "            with MemoryFile() as memfile:\n",
    "                memfile.write(bytes(vrt_text, 'utf-8'))\n",
    "                with memfile.open() as ds:\n",
    "                    yield ds\n",
    "    \n",
    "    def GetSumArray(self,  date_from, date_to):\n",
    "        \"\"\"Returns a numpy array containing the data from a pixelwise \n",
    "        sum of the images from the ImageCollection matching the specified dates.\n",
    "        \"\"\"\n",
    "        vrt_text = self._GetVrtDefinition(date_from, date_to)\n",
    "        with rio.Env(GDAL_VRT_ENABLE_PYTHON=True):\n",
    "            with MemoryFile() as memfile:\n",
    "                memfile.write(bytes(vrt_text, 'utf-8'))\n",
    "                with memfile.open() as ds:\n",
    "                    return ds.read(1)\n",
    "    "
   ]
  },
  {
   "cell_type": "markdown",
   "metadata": {},
   "source": [
    "## Usage"
   ]
  },
  {
   "cell_type": "markdown",
   "metadata": {},
   "source": [
    "Create the ImageCollection to find all the files and parse the dates from them"
   ]
  },
  {
   "cell_type": "code",
   "execution_count": 16,
   "metadata": {},
   "outputs": [],
   "source": [
    "root_path = '/mnt/c/Users/harry/Downloads/chirps_africa_daily/'\n",
    "c = ImageCollection(root_path, \"*.tif.gz\", ChirpsDailyFnParser())"
   ]
  },
  {
   "cell_type": "markdown",
   "metadata": {},
   "source": [
    "Create the collection summ(aris)er, in this case the data have nodata pixels recorded as -9999 but not set in the image headers, so we force it"
   ]
  },
  {
   "cell_type": "code",
   "execution_count": 23,
   "metadata": {},
   "outputs": [],
   "source": [
    "c2 = CollectionVirtualSummer(c, -9999)"
   ]
  },
  {
   "cell_type": "markdown",
   "metadata": {},
   "source": [
    "Test the summariser:"
   ]
  },
  {
   "cell_type": "code",
   "execution_count": 11,
   "metadata": {},
   "outputs": [],
   "source": [
    "from rasterio.plot import show"
   ]
  },
  {
   "cell_type": "code",
   "execution_count": 12,
   "metadata": {},
   "outputs": [
    {
     "data": {
      "image/png": "[encoded data removed]",
      "text/plain": [
       "<Figure size 432x288 with 1 Axes>"
      ]
     },
     "metadata": {
      "needs_background": "light"
     },
     "output_type": "display_data"
    },
    {
     "data": {
      "text/plain": [
       "<AxesSubplot:>"
      ]
     },
     "execution_count": 12,
     "metadata": {},
     "output_type": "execute_result"
    }
   ],
   "source": [
    "d_from = datetime.date(2016,4,1)\n",
    "d_to = datetime.date(2016,5,1)\n",
    "april = c2.GetSumArray(d_from, d_to)\n",
    "show(april)"
   ]
  },
  {
   "cell_type": "code",
   "execution_count": 219,
   "metadata": {},
   "outputs": [
    {
     "data": {
      "image/png": "[encoded data removed]",
      "text/plain": [
       "<Figure size 432x288 with 1 Axes>"
      ]
     },
     "metadata": {
      "needs_background": "light"
     },
     "output_type": "display_data"
    },
    {
     "data": {
      "text/plain": [
       "<AxesSubplot:>"
      ]
     },
     "execution_count": 219,
     "metadata": {},
     "output_type": "execute_result"
    }
   ],
   "source": [
    "d_from = datetime.date(2016,11,1)\n",
    "d_to = datetime.date(2016,12,1)\n",
    "nov = c2.GetSumArray(d_from, d_to)\n",
    "show(nov)"
   ]
  },
  {
   "cell_type": "markdown",
   "metadata": {},
   "source": [
    "Use the summariser to perform the required data extraction for the survey data"
   ]
  },
  {
   "cell_type": "code",
   "execution_count": 8,
   "metadata": {},
   "outputs": [],
   "source": [
    "_folder = \"/mnt/c/Users/harry/OneDrive - Nexus365/Informal_Cities/DHS_Data_And_Prep/AirPollution_Household_Extraction/Output\"\n",
    "_fn = \"peak_urban_ssa_hh_coords_ET-fix_corrected.csv\"\n",
    "\n",
    "inp = os.path.join(_folder, _fn)"
   ]
  },
  {
   "cell_type": "markdown",
   "metadata": {},
   "source": [
    "Read all the input data (required columns only)"
   ]
  },
  {
   "cell_type": "code",
   "execution_count": 34,
   "metadata": {},
   "outputs": [
    {
     "data": {
      "text/html": [
       "<div>\n",
       "<style scoped>\n",
       "    .dataframe tbody tr th:only-of-type {\n",
       "        vertical-align: middle;\n",
       "    }\n",
       "\n",
       "    .dataframe tbody tr th {\n",
       "        vertical-align: top;\n",
       "    }\n",
       "\n",
       "    .dataframe thead th {\n",
       "        text-align: right;\n",
       "    }\n",
       "</style>\n",
       "<table border=\"1\" class=\"dataframe\">\n",
       "  <thead>\n",
       "    <tr style=\"text-align: right;\">\n",
       "      <th></th>\n",
       "      <th>surveyid</th>\n",
       "      <th>cluster_number</th>\n",
       "      <th>hhid</th>\n",
       "      <th>interview_date_clean</th>\n",
       "      <th>lat</th>\n",
       "      <th>lon</th>\n",
       "      <th>interview_date_parsed</th>\n",
       "    </tr>\n",
       "  </thead>\n",
       "  <tbody>\n",
       "    <tr>\n",
       "      <th>0</th>\n",
       "      <td>211</td>\n",
       "      <td>1</td>\n",
       "      <td>117</td>\n",
       "      <td>26/10/2001</td>\n",
       "      <td>10.84476</td>\n",
       "      <td>2.109562</td>\n",
       "      <td>2001-10-26</td>\n",
       "    </tr>\n",
       "    <tr>\n",
       "      <th>1</th>\n",
       "      <td>211</td>\n",
       "      <td>1</td>\n",
       "      <td>1 1</td>\n",
       "      <td>26/10/2001</td>\n",
       "      <td>10.84476</td>\n",
       "      <td>2.109562</td>\n",
       "      <td>2001-10-26</td>\n",
       "    </tr>\n",
       "    <tr>\n",
       "      <th>2</th>\n",
       "      <td>211</td>\n",
       "      <td>1</td>\n",
       "      <td>1 2</td>\n",
       "      <td>26/10/2001</td>\n",
       "      <td>10.84476</td>\n",
       "      <td>2.109562</td>\n",
       "      <td>2001-10-26</td>\n",
       "    </tr>\n",
       "    <tr>\n",
       "      <th>3</th>\n",
       "      <td>211</td>\n",
       "      <td>1</td>\n",
       "      <td>1 3</td>\n",
       "      <td>26/10/2001</td>\n",
       "      <td>10.84476</td>\n",
       "      <td>2.109562</td>\n",
       "      <td>2001-10-26</td>\n",
       "    </tr>\n",
       "    <tr>\n",
       "      <th>4</th>\n",
       "      <td>211</td>\n",
       "      <td>1</td>\n",
       "      <td>1 4</td>\n",
       "      <td>26/10/2001</td>\n",
       "      <td>10.84476</td>\n",
       "      <td>2.109562</td>\n",
       "      <td>2001-10-26</td>\n",
       "    </tr>\n",
       "  </tbody>\n",
       "</table>\n",
       "</div>"
      ],
      "text/plain": [
       "   surveyid  cluster_number          hhid interview_date_clean       lat  \\\n",
       "0       211               1           117           26/10/2001  10.84476   \n",
       "1       211               1           1 1           26/10/2001  10.84476   \n",
       "2       211               1           1 2           26/10/2001  10.84476   \n",
       "3       211               1           1 3           26/10/2001  10.84476   \n",
       "4       211               1           1 4           26/10/2001  10.84476   \n",
       "\n",
       "        lon interview_date_parsed  \n",
       "0  2.109562            2001-10-26  \n",
       "1  2.109562            2001-10-26  \n",
       "2  2.109562            2001-10-26  \n",
       "3  2.109562            2001-10-26  \n",
       "4  2.109562            2001-10-26  "
      ]
     },
     "execution_count": 34,
     "metadata": {},
     "output_type": "execute_result"
    }
   ],
   "source": [
    "df = pd.read_csv(inp\n",
    "                 ,usecols=['surveyid','cluster_number','hhid', 'interview_date_clean', 'lat','lon'])\n",
    "df['interview_date_parsed'] = pd.to_datetime(df['interview_date_clean'], format='%d/%m/%Y').dt.date\n",
    "df=df[df['lat'].notna()]\n",
    "df.head()"
   ]
  },
  {
   "cell_type": "markdown",
   "metadata": {},
   "source": [
    "The daily rasters for summarisation are different for each unique survey date. Get the list of unique dates."
   ]
  },
  {
   "cell_type": "code",
   "execution_count": 12,
   "metadata": {},
   "outputs": [],
   "source": [
    "unique_dates = df['interview_date_parsed'].unique()"
   ]
  },
  {
   "cell_type": "markdown",
   "metadata": {},
   "source": [
    "Define a function to get the start / end date of a 30 period beginning (i * 30) days before the given date"
   ]
  },
  {
   "cell_type": "code",
   "execution_count": 10,
   "metadata": {},
   "outputs": [],
   "source": [
    "def get_from_to(d, i):\n",
    "    delta_from = datetime.timedelta(days=i*(-30))\n",
    "    delta_to = datetime.timedelta(days=(i-1)*(-30))\n",
    "    date_from = d + delta_from\n",
    "    date_to = d + delta_to\n",
    "    return date_from, date_to"
   ]
  },
  {
   "cell_type": "markdown",
   "metadata": {},
   "source": [
    "## Perform the extraction \n",
    "\n",
    "For each date, filter the input dataframe to households surveyed on this date, then for each timestep generate the summary raster and sample it at the matching locations.\n",
    "\n",
    "Running in a single process, this takes many hours for the ~4100 unique dates in our dataset.\n",
    "\n",
    "We could parallelise across unique_dates using e.g. Dask. On this occasion we're going to use an alternate implementation in Earth Engine, and use this approach only to check the results."
   ]
  },
  {
   "cell_type": "code",
   "execution_count": 26,
   "metadata": {
    "collapsed": true,
    "jupyter": {
     "outputs_hidden": true
    }
   },
   "outputs": [
    {
     "name": "stdout",
     "output_type": "stream",
     "text": [
      "Step 0: 2001-10-26 (66): 1...2...3...4...5...6...7...8...9...10...11...12...13...\n",
      "Step 1: 2001-10-27 (44): 1...2...3...4...5...6...7...8...9...10...11...12...13...\n",
      "Step 2: 2001-08-15 (81): 1...2...3...4...5...6...7...8...9...10...11...12...13...\n",
      "Step 3: 2001-08-14 (76): 1...2...3...4...5...6...7...8...9...10...11...12...13...\n",
      "Step 4: 2001-08-16 (70): 1...2...3...4...5...6...7...8...9...10...11...12...13...\n",
      "Step 5: 2001-08-22 (63): 1...2...3...4...5...6...7...8...9...10...11...12...13...\n",
      "Step 6: 2001-08-21 (79): 1...2...3...4...5...6...7...8...9...10...11...12...13...\n",
      "Step 7: 2001-08-23 (71): 1...2...3...4...5...6...7...8...9...10...11...12...13...\n",
      "Step 8: 2001-09-02 (58): 1...2...3...4...5...6...7...8...9...10...11...12...13...\n",
      "Step 9: 2001-09-15 (41): 1...2...3...4...5...6...7...8...9...10...11...12...13...\n",
      "Step 10: 2001-09-14 (67): 1...2...3...4...5...6...7...8...9...10...11...12...13...\n",
      "Step 11: 2001-09-16 (68): 1...2...3...4...5...6...7...8...9...10...11...12...13...\n",
      "Step 12: 2001-09-17 (66): 1...2...3...4...5...6...7...8...9...10...11...12...13...\n",
      "Step 13: 2001-09-18 (82): 1...2...3...4...5...6...7...8...9...10...11...12...13...\n",
      "Step 14: 2001-09-19 (55): 1...2...3...4...5...6...7...8...9...10...11...12...13...\n",
      "Step 15: 2001-09-20 (121): 1...2...3...4...5...6...7...8...9...10...11...12...13...\n",
      "Step 16: 2001-09-11 (87): 1...2...3...4...5...6...7...8...9...10...11...12...13...\n",
      "Step 17: 2001-09-09 (52): 1...2...3...4...5...6...7...8...9...10...11...12...13...\n",
      "Step 18: 2001-11-14 (6): 1...2...3...4...5...6...7...8...9...10...11...12...13...\n",
      "Step 19: 2001-11-13 (8): 1...2...3...4...5...6...7...8...9...10...11...12...13...\n",
      "Step 20: 2001-11-02 (51): 1...2...3...4...5...6...7...8...9...10...11...12...13...\n",
      "Step 21: 2001-10-31 (58): 1...2...3...4...5...6...7...8...9...10...11...12...13...\n",
      "Step 22: 2001-11-01 (85): 1...2...3...4...5...6...7...8...9...10...11...12...13...\n",
      "Step 23: 2001-09-28 (62): 1...2...3...4...5...6...7...8...9...10...11...12...13...\n",
      "Step 24: 2001-10-06 (63): 1...2...3...4...5...6...7...8...9...10...11...12...13...\n",
      "Step 25: 2001-10-08 (47): 1...2...3...4...5...6...7...8...9...10...11...12...13...\n",
      "Step 26: 2001-10-09 (118): 1...2...3...4...5...6...7...8...9...10...11...12...13...\n",
      "Step 27: 2001-10-07 (40): 1...2...3...4...5...6...7...8...9...10...11...12...13...\n",
      "Step 28: 2001-10-11 (59): 1...2...3...4...5...6...7...8...9...10...11...12...13...\n",
      "Step 29: 2001-10-12 (75): 1...2...3...4...5...6...7...8...9...10...11...12...13...\n",
      "Step 30: 2001-10-13 (51): 1...2...3...4...5...6...7...8...9...10...11...12...13...\n",
      "Step 31: 2001-10-21 (56): 1...2...3...4...5...6...7...8...9...10...11...12...13...\n",
      "Step 32: 2001-10-20 (68): 1...2...3...4...5...6...7...8...9...10...11...12...13...\n",
      "Step 33: 2001-10-22 (70): 1...2...3...4...5...6...7...8...9...10...11...12...13...\n",
      "Step 34: 2001-10-28 (38): 1...2...3...4...5...6...7...8...9...10...11...12...13...\n",
      "Step 35: 2001-10-30 (53): 1...2...3...4...5...6...7...8...9...10...11...12...13...\n",
      "Step 36: 2001-10-29 (69): 1...2...3...4...5...6...7...8...9...10...11...12...13...\n",
      "Step 37: 2001-08-10 (59): 1...2...3...4...5...6...7...8...9...10...11...12...13...\n",
      "Step 38: 2001-08-12 (68): 1...2...3...4...5...6...7...8...9...10...11...12...13...\n",
      "Step 39: 2001-08-11 (106): 1...2...3...4...5...6...7...8...9...10...11...12...13...\n",
      "Step 40: 2001-08-13 (54): 1...2...3...4...5...6...7...8...9...10...11...12...13...\n",
      "Step 41: 2001-08-19 (50): 1...2...3...4...5...6...7...8...9...10...11...12...13...\n",
      "Step 42: 2001-08-18 (116): 1...2...3...4...5...6...7...8...9...10...11...12...13...\n",
      "Step 43: 2001-08-17 (62): 1...2...3...4...5...6...7...8...9...10...11...12...13...\n",
      "Step 44: 2001-08-20 (61): 1...2...3...4...5...6...7...8...9...10...11...12...13...\n",
      "Step 45: 2001-08-24 (68): 1...2...3...4...5...6...7...8...9...10...11...12...13...\n",
      "Step 46: 2001-08-28 (68): 1...2...3...4...5...6...7...8...9...10...11...12...13...\n",
      "Step 47: 2001-08-27 (82): 1...2...3...4...5...6...7...8...9...10...11...12...13...\n",
      "Step 48: 2001-08-25 (65): 1...2...3...4...5...6...7...8...9...10...11...12...13...\n",
      "Step 49: 2001-08-30 (87): 1...2...3...4...5...6...7...8...9...10...11...12...13...\n",
      "Step 50: 2001-08-31 (54): 1...2...3...4...5...6...7...8...9...10...11...12...13...\n",
      "Step 51: 2001-09-23 (47): 1...2...3...4...5...6...7...8...9...10...11...12...13...\n",
      "Step 52: 2001-09-25 (103): 1...2...3...4...5...6...7...8...9...10...11...12...13...\n",
      "Step 53: 2001-09-24 (50): 1...2...3...4...5...6...7...8...9...10...11...12...13...\n",
      "Step 54: 2001-09-26 (67): 1...2...3...4...5...6...7...8...9...10...11...12...13...\n",
      "Step 55: 2001-10-25 (79): 1...2...3...4...5...6...7...8...9...10...11...12...13...\n",
      "Step 56: 2001-09-05 (47): 1...2...3...4...5...6...7...8...9...10...11...12...13...\n",
      "Step 57: 2001-09-06 (87): 1...2...3...4...5...6...7...8...9...10...11...12...13...\n",
      "Step 58: 2001-09-07 (47): 1...2...3...4...5...6...7...8...9...10...11...12...13...\n",
      "Step 59: 2001-09-08 (69): 1...2...3...4...5...6...7...8...9...10...11...12...13...\n",
      "Step 60: 2001-09-10 (41): 1...2...3...4...5...6...7...8...9...10...11...12...13...\n",
      "Step 61: 2001-11-09 (22): 1...2...3...4...5...6...7...8...9...10...11...12...13...\n",
      "Step 62: 2001-11-10 (16): 1...2...3...4...5...6...7...8...9...10...11...12...13...\n",
      "Step 63: 2001-11-11 (12): 1...2...3...4...5...6...7...8...9...10...11...12...13...\n",
      "Step 64: 2001-11-12 (16): 1...2...3...4...5...6...7...8...9...10...11...12...13...\n",
      "Step 65: 2001-11-08 (43): 1...2...3...4...5...6...7...8...9...10...11...12...13...\n",
      "Step 66: 2001-11-03 (60): 1...2...3...4...5...6...7...8...9...10...11...12...13...\n",
      "Step 67: 2001-11-04 (36): 1...2...3...4...5...6...7...8...9...10...11...12...13...\n",
      "Step 68: 2001-11-06 (46): 1...2...3...4...5...6...7...8...9...10...11...12...13...\n",
      "Step 69: 2001-11-05 (34): 1...2...3...4...5...6...7...8...9...10...11...12...13...\n",
      "Step 70: 2001-09-30 (45): 1...2...3...4...5...6...7...8...9...10...11...12...13...\n",
      "Step 71: 2001-10-02 (42): 1...2...3...4...5...6...7...8...9...10...11...12...13...\n",
      "Step 72: 2001-10-01 (61): 1...2...3...4...5...6...7...8...9...10...11...12...13...\n",
      "Step 73: 2001-10-23 (92): 1...2...3...4...5...6...7...8...9...10...11...12...13...\n",
      "Step 74: 2001-10-24 (59): 1...2...3...4...5...6...7...8...9...10...11...12...13...\n",
      "Step 75: 2001-10-10 (57): 1...2...3...4...5...6...7...8...9...10...11...12...13...\n",
      "Step 76: 2001-10-14 (59): 1...2...3...4...5...6...7...8...9...10...11...12...13...\n",
      "Step 77: 2001-10-17 (68): 1...2...3...4...5...6...7...8...9...10...11...12...13...\n",
      "Step 78: 2001-10-16 (85): 1...2...3...4...5...6...7...8...9...10...11...12...13...\n",
      "Step 79: 2001-10-15 (54): 1...2...3...4...5...6...7...8...9...10...11...12...13...\n",
      "Step 80: 2001-10-04 (61): 1...2...3...4...5...6...7...8...9...10...11...12...13...\n",
      "Step 81: 2001-09-03 (66): 1...2...3...4...5...6...7...8...9...10...11...12...13...\n",
      "Step 82: 2001-10-03 (69): 1...2...3...4...5...6...7...8...9...10...11...12...13...\n",
      "Step 83: 2001-10-05 (92): 1...2...3...4...5...6...7...8...9...10...11...12...13...\n",
      "Step 84: 2001-10-18 (97): 1...2...3...4...5...6...7...8...9...10...11...12...13...\n",
      "Step 85: 2001-10-19 (67): 1...2...3...4...5...6...7...8...9...10...11...12...13...\n",
      "Step 86: 2001-09-29 (85): 1...2...3...4...5...6...7...8...9...10...11...12...13...\n",
      "Step 87: 2001-09-12 (73): 1...2...3...4...5...6...7...8...9...10...11...12...13...\n",
      "Step 88: 2001-08-26 (58): 1...2...3...4...5...6...7...8...9...10...11...12...13...\n",
      "Step 89: 2001-09-22 (71): 1...2...3...4...5...6...7...8...9...10...11...12...13...\n",
      "Step 90: 2001-09-21 (56): 1...2...3...4...5...6...7...8...9...10...11...12...13...\n",
      "Step 91: 2001-09-27 (70): 1...2...3...4...5...6...7...8...9...10...11...12...13...\n",
      "Step 92: 2001-09-13 (81): 1...2...3...4...5...6...7...8...9...10...11...12...13...\n",
      "Step 93: 2001-08-29 (81): 1...2...3...4...5...6...7...8...9...10...11...12...13...\n",
      "Step 94: 2001-09-01 (50): 1...2...3...4...5...6...7...8...9...10...11...12...13...\n",
      "Step 95: 2001-09-04 (80): 1...2...3...4...5...6...7...8...9...10...11...12...13...\n",
      "Step 96: 2001-07-14 (1): 1...2...3...4...5...6...7...8...9...10...11...12...13...\n",
      "Step 97: 2001-08-09 (15): 1...2...3...4...5...6...7...8...9...10...11...12...13...\n",
      "Step 98: 2001-11-07 (49): 1...2...3...4...5...6...7...8...9...10...11...12...13...\n",
      "Step 99: 2001-08-01 (1): 1...2...3...4...5...6...7...8...9...10...11...12...13...\n",
      "Step 100: 2001-08-08 (24): 1...2...3...4...5...6...7...8...9...10...11...12...13...\n",
      "Step 101: 2001-08-06 (54): 1...2...3...4...5...6...7...8...9...10...11...12...13...\n",
      "Step 102: 2001-08-07 (37): 1...2...3...4...5...6...7...8...9...10...11...12...13...\n",
      "Step 103: 2005-07-13 (181): 1...2...3...4...5...6...7...8...9...10...11...12...13...\n",
      "Step 104: 2005-07-12 (170): 1...2...3...4...5...6...7...8...9...10...11...12...13...\n",
      "Step 105: 2005-06-12 (110): 1...2...3...4...5...6...7...8...9...10...11...12...13...\n",
      "Step 106: 2005-08-10 (164): 1...2...3...4...5...6...7...8...9...10...11...12...13...\n",
      "Step 107: 2005-08-12 (110): 1...2...3...4...5...6...7...8...9...10...11...12...13...\n",
      "Step 108: 2005-08-13 (101): 1...2...3...4...5...6...7...8...9...10...11...12...13...\n",
      "Step 109: 2005-08-09 (97): 1...2...3...4...5...6...7...8...9...10...11...12...13...\n",
      "Step 110: 2005-08-11 (122): 1...2...3...4...5...6...7...8...9...10...11...12...13...\n",
      "Step 111: 2005-08-14 (132): 1...2...3...4...5...6...7...8...9...10...11...12...13...\n",
      "Step 112: 2005-07-21 (206): 1...2...3...4...5...6...7...8...9...10...11...12...13...\n",
      "Step 113: 2005-07-19 (148): 1...2...3...4...5...6...7...8...9...10...11...12...13...\n",
      "Step 114: 2005-07-17 (119): 1...2...3...4...5...6...7...8...9...10...11...12...13...\n",
      "Step 115: 2005-07-18 (95): 1...2...3...4...5...6...7...8...9...10...11...12...13...\n",
      "Step 116: 2005-07-16 (127): 1...2...3...4...5...6...7...8...9...10...11...12...13...\n",
      "Step 117: 2005-07-20 (179): 1...2...3...4...5...6...7...8...9...10...11...12...13...\n",
      "Step 118: 2005-05-02 (144): 1...2...3...4...5...6...7...8...9...10...11...12...13...\n",
      "Step 119: 2005-04-28 (117): 1...2...3...4...5...6...7...8...9...10...11...12...13...\n",
      "Step 120: 2005-05-03 (111): 1...2...3...4...5...6...7...8...9...10...11...12...13...\n",
      "Step 121: 2005-04-29 (129): 1...2...3...4...5...6...7...8...9...10...11...12...13...\n",
      "Step 122: 2005-04-30 (134): 1...2...3...4...5...6...7...8...9...10...11...12...13...\n",
      "Step 123: 2005-06-14 (104): 1...2...3...4...5...6...7...8...9...10...11...12...13...\n",
      "Step 124: 2005-06-10 (146): 1...2...3...4...5...6...7...8...9...10...11...12...13...\n",
      "Step 125: 2005-06-09 (105): 1...2...3...4...5...6...7...8...9...10...11...12...13...\n",
      "Step 126: 2005-06-11 (131): 1...2...3...4...5...6...7...8...9...10...11...12...13...\n",
      "Step 127: 2005-06-08 (164): 1...2...3...4...5...6...7...8...9...10...11...12...13...\n",
      "Step 128: 2005-06-15 (169): 1...2...3...4...5...6...7...8...9...10...11...12...13...\n",
      "Step 129: 2005-05-04 (144): 1...2...3...4...5...6...7...8...9...10...11...12...13...\n",
      "Step 130: 2005-05-05 (127): 1...2...3...4...5...6...7...8...9...10...11...12...13...\n",
      "Step 131: 2005-05-06 (112): 1...2...3...4...5...6...7...8...9...10...11...12...13...\n",
      "Step 132: 2005-07-23 (97): 1...2...3...4...5...6...7...8...9...10...11...12...13...\n",
      "Step 133: 2005-07-24 (81): 1...2...3...4...5...6...7...8...9...10...11...12...13...\n",
      "Step 134: 2005-07-25 (95): 1...2...3...4...5...6...7...8...9...10...11...12...13...\n",
      "Step 135: 2005-07-01 (120): 1...2...3...4...5...6...7...8...9...10...11...12...13...\n",
      "Step 136: 2005-07-03 (153): 1...2...3...4...5...6...7...8...9...10...11...12...13...\n",
      "Step 137: 2005-07-02 (163): 1...2...3...4...5...6...7...8...9...10...11...12...13...\n",
      "Step 138: 2005-07-04 (91): 1...2...3...4...5...6...7...8...9...10...11...12...13...\n",
      "Step 139: 2005-07-08 (158): 1...2...3...4...5...6...7...8...9...10...11...12...13...\n",
      "Step 140: 2005-07-10 (124): 1...2...3...4...5...6...7...8...9...10...11...12...13...\n",
      "Step 141: 2005-07-11 (131): 1...2...3...4...5...6...7...8...9...10...11...12...13...\n",
      "Step 142: 2005-07-09 (167): 1...2...3...4...5...6...7...8...9...10...11...12...13...\n",
      "Step 143: 2005-06-06 (155): 1...2...3...4...5...6...7...8...9...10...11...12...13...\n",
      "Step 144: 2005-06-07 (136): 1...2...3...4...5...6...7...8...9...10...11...12...13...\n",
      "Step 145: 2005-06-05 (135): 1...2...3...4...5...6...7...8...9...10...11...12...13...\n",
      "Step 146: 2005-06-04 (83): 1...2...3...4...5...6...7...8...9...10...11...12...13...\n",
      "Step 147: 2005-05-20 (135): 1...2...3...4...5...6...7...8...9...10...11...12...13...\n",
      "Step 148: 2005-05-21 (128): 1...2...3...4...5...6...7...8...9...10...11...12...13...\n",
      "Step 149: 2005-05-19 (136): 1...2...3...4...5...6...7...8...9...10...11...12...13...\n",
      "Step 150: 2005-05-22 (91): 1...2...3...4...5...6...7...8...9...10...11...12...13...\n",
      "Step 151: 2005-05-26 (174): 1...2...3...4...5...6...7...8...9...10...11...12...13...\n",
      "Step 152: 2005-05-25 (167): 1...2...3...4...5...6...7...8...9...10...11...12...13...\n",
      "Step 153: 2005-05-24 (116): 1...2...3...4...5...6...7...8...9...10...11...12...13...\n",
      "Step 154: 2005-06-22 (128): 1...2...3...4...5...6...7...8...9...10...11...12...13...\n",
      "Step 155: 2005-06-23 (108): 1...2...3...4...5...6...7...8...9...10...11...12...13...\n",
      "Step 156: 2005-06-21 (175): 1...2...3...4...5...6...7...8...9...10...11...12...13...\n",
      "Step 157: 2005-08-06 (201): 1...2...3...4...5...6...7...8...9...10...11...12...13...\n",
      "Step 158: 2005-08-07 (136): 1...2...3...4...5...6...7...8...9...10...11...12...13...\n",
      "Step 159: 2005-07-07 (154): 1...2...3...4...5...6...7...8...9...10...11...12...13...\n",
      "Step 160: 2005-07-31 (103): 1...2...3...4...5...6...7...8...9...10...11...12...13...\n",
      "Step 161: 2005-06-01 (243): 1...2...3...4...5...6...7...8...9...10...11...12...13...\n",
      "Step 162: 2005-06-02 (150): 1...2...3...4...5...6...7...8...9...10...11...12...13...\n",
      "Step 163: 2005-06-03 (106): 1...2...3...4...5...6...7...8...9...10...11...12...13...\n",
      "Step 164: 2005-05-16 (127): 1...2...3...4...5...6...7...8...9...10...11...12...13...\n",
      "Step 165: 2005-05-17 (165): 1...2...3...4...5...6...7...8...9...10...11...12...13...\n",
      "Step 166: 2005-05-18 (111): 1...2...3...4...5...6...7...8...9...10...11...12...13...\n",
      "Step 167: 2005-07-29 (152): 1...2...3...4...5...6...7...8...9...10...11...12...13...\n",
      "Step 168: 2005-07-30 (111): 1...2...3...4...5...6...7...8...9...10...11...12...13...\n",
      "Step 169: 2005-08-02 (179): 1...2...3...4...5...6...7...8...9...10...11...12...13...\n",
      "Step 170: 2005-08-01 (140): 1...2...3...4...5...6...7...8...9...10...11...12...13...\n",
      "Step 171: 2005-07-22 (163): 1...2...3...4...5...6...7...8...9...10...11...12...13...\n",
      "Step 172: 2005-08-08 (42): 1...2...3...4...5...6...7...8...9...10...11...12...13...\n",
      "Step 173: 2005-05-29 (77): 1...2...3...4...5...6...7...8...9...10...11...12...13...\n",
      "Step 174: 2005-05-30 (121): 1...2...3...4...5...6...7...8...9...10...11...12...13...\n",
      "Step 175: 2005-05-31 (167): 1...2...3...4...5...6...7...8...9...10...11...12...13...\n",
      "Step 176: 2005-05-28 (97): 1...2...3...4...5...6...7...8...9...10...11...12...13...\n",
      "Step 177: 2005-05-01 (50): 1...2...3...4...5...6...7...8...9...10...11...12...13...\n",
      "Step 178: 2005-07-05 (148): 1...2...3...4...5...6...7...8...9...10...11...12...13...\n",
      "Step 179: 2005-07-06 (127): 1...2...3...4...5...6...7...8...9...10...11...12...13...\n",
      "Step 180: 2005-06-26 (177): 1...2...3...4...5...6...7...8...9...10...11...12...13...\n",
      "Step 181: 2005-06-28 (101): 1...2...3...4...5...6...7...8...9...10...11...12...13...\n",
      "Step 182: 2005-06-25 (182): 1...2...3...4...5...6...7...8...9...10...11...12...13...\n",
      "Step 183: 2005-06-27 (153): 1...2...3...4...5...6...7...8...9...10...11...12...13...\n",
      "Step 184: 2005-07-28 (141): 1...2...3...4...5...6...7...8...9...10...11...12...13...\n",
      "Step 185: 2005-05-13 (68): 1...2...3...4...5...6...7...8...9...10...11...12...13...\n",
      "Step 186: 2005-05-14 (47): 1...2...3...4...5...6...7...8...9...10...11...12...13...\n",
      "Step 187: 2005-05-15 (48): 1...2...3...4...5...6...7...8...9...10...11...12...13...\n",
      "Step 188: 2005-06-24 (143): 1...2...3...4...5...6...7...8...9...10...11...12...13...\n",
      "Step 189: 2005-06-29 (136): 1...2...3...4...5...6...7...8...9...10...11...12...13...\n",
      "Step 190: 2005-05-11 (157): 1...2...3...4...5...6...7...8...9...10...11...12...13...\n",
      "Step 191: 2005-04-11 (2): 1...2...3...4...5...6...7...8...9...10...11...12...13...\n",
      "Step 192: 2005-05-10 (212): 1...2...3...4...5...6...7...8...9...10...11...12...13...\n",
      "Step 193: 2005-05-12 (84): 1...2...3...4...5...6...7...8...9...10...11...12...13...\n",
      "Step 194: 2005-04-14 (1): 1...2...3...4...5...6...7...8...9...10...11...12...13...\n",
      "Step 195: 2005-04-27 (68): 1...2...3...4...5...6...7...8...9...10...11...12...13...\n",
      "Step 196: 2005-04-26 (21): 1...2...3...4...5...6...7...8...9...10...11...12...13...\n",
      "Step 197: 2005-04-18 (2): 1...2...3...4...5...6...7...8...9...10...11...12...13...\n",
      "Step 198: 2005-06-16 (170): 1...2...3...4...5...6...7...8...9...10...11...12...13...\n",
      "Step 199: 2005-06-19 (134): 1...2...3...4...5...6...7...8...9...10...11...12...13...\n",
      "Step 200: 2005-06-18 (129): 1...2...3...4...5...6...7...8...9...10...11...12...13...\n",
      "Step 201: 2005-06-17 (136): 1...2...3...4...5...6...7...8...9...10...11...12...13...\n",
      "Step 202: 2005-06-20 (162): 1...2...3...4...5...6...7...8...9...10...11...12...13...\n",
      "Step 203: 2005-08-04 (222): 1...2...3...4...5...6...7...8...9...10...11...12...13...\n",
      "Step 204: 2005-08-05 (231): 1...2...3...4...5...6...7...8...9...10...11...12...13...\n",
      "Step 205: 2005-04-10 (4): 1...2...3...4...5...6...7...8...9...10...11...12...13...\n",
      "Step 206: 2005-05-07 (76): 1...2...3...4...5...6...7...8...9...10...11...12...13...\n",
      "Step 207: 2005-05-08 (62): 1...2...3...4...5...6...7...8...9...10...11...12...13...\n",
      "Step 208: 2005-05-09 (129): 1...2...3...4...5...6...7...8...9...10...11...12...13...\n",
      "Step 209: 2005-06-13 (114): 1...2...3...4...5...6...7...8...9...10...11...12...13...\n",
      "Step 210: 2005-06-30 (154): 1...2...3...4...5...6...7...8...9...10...11...12...13...\n",
      "Step 211: 2005-07-15 (154): 1...2...3...4...5...6...7...8...9...10...11...12...13...\n",
      "Step 212: 2005-07-14 (155): 1...2...3...4...5...6...7...8...9...10...11...12...13...\n",
      "Step 213: 2005-08-24 (96): 1...2...3...4...5...6...7...8...9...10...11...12...13...\n",
      "Step 214: 2005-08-23 (79): 1...2...3...4...5...6...7...8...9...10...11...12...13...\n",
      "Step 215: 2005-08-22 (102): 1...2...3...4...5...6...7...8...9...10...11...12...13...\n",
      "Step 216: 2005-08-25 (89): 1...2...3...4...5...6...7...8...9...10...11...12...13...\n",
      "Step 217: 2005-08-16 (134): 1...2...3...4...5...6...7...8...9...10...11...12...13...\n",
      "Step 218: 2005-08-15 (193): 1...2...3...4...5...6...7...8...9...10...11...12...13...\n",
      "Step 219: 2005-08-17 (84): 1...2...3...4...5...6...7...8...9...10...11...12...13...\n",
      "Step 220: 2005-08-03 (203): 1...2...3...4...5...6...7...8...9...10...11...12...13...\n",
      "Step 221: 2005-05-27 (109): 1...2...3...4...5...6...7...8...9...10...11...12...13...\n",
      "Step 222: 2005-05-23 (78): 1...2...3...4...5...6...7...8...9...10...11...12...13...\n",
      "Step 223: 2005-07-27 (189): 1...2...3...4...5...6...7...8...9...10...11...12...13...\n",
      "Step 224: 2005-07-26 (172): 1...2...3...4...5...6...7...8...9...10...11...12...13...\n",
      "Step 225: 2005-08-28 (32): 1...2...3...4...5...6...7...8...9...10...11...12...13...\n",
      "Step 226: 2005-08-29 (75): 1...2...3...4...5...6...7...8...9...10...11...12...13...\n",
      "Step 227: 2005-08-30 (93): 1...2...3...4...5...6...7...8...9...10...11...12...13...\n",
      "Step 228: 2005-08-31 (39): 1...2...3...4...5...6...7...8...9...10...11...12...13...\n",
      "Step 229: 2005-08-18 (81): 1...2...3...4...5...6...7...8...9...10...11...12...13...\n",
      "Step 230: 2005-08-19 (99): 1...2...3...4...5...6...7...8...9...10...11...12...13...\n",
      "Step 231: 2005-08-20 (106): 1...2...3...4...5...6...7...8...9...10...11...12...13...\n",
      "Step 232: 2005-08-21 (79): 1...2...3...4...5...6...7...8...9...10...11...12...13...\n",
      "Step 233: 2005-04-12 (2): 1...2...3...4...5...6...7...8...9...10...11...12...13...\n",
      "Step 234: 2005-09-02 (34): 1...2...3...4...5...6...7...8...9...10...11...12...13...\n",
      "Step 235: 2004-10-09 (64): 1..."
     ]
    },
    {
     "ename": "ValueError",
     "evalue": "cannot convert float NaN to integer",
     "output_type": "error",
     "traceback": [
      "\u001b[0;31m---------------------------------------------------------------------------\u001b[0m",
      "\u001b[0;31mValueError\u001b[0m                                Traceback (most recent call last)",
      "\u001b[0;32m<ipython-input-26-a5c03ce5af3d>\u001b[0m in \u001b[0;36m<module>\u001b[0;34m\u001b[0m\n\u001b[1;32m      8\u001b[0m         \u001b[0mval_col\u001b[0m \u001b[0;34m=\u001b[0m \u001b[0;34mf\"val_{i}\"\u001b[0m\u001b[0;34m\u001b[0m\u001b[0;34m\u001b[0m\u001b[0m\n\u001b[1;32m      9\u001b[0m         \u001b[0;32mwith\u001b[0m \u001b[0mc2\u001b[0m\u001b[0;34m.\u001b[0m\u001b[0mGetSumDataset\u001b[0m\u001b[0;34m(\u001b[0m\u001b[0mdate_from\u001b[0m\u001b[0;34m,\u001b[0m \u001b[0mdate_to\u001b[0m\u001b[0;34m)\u001b[0m \u001b[0;32mas\u001b[0m \u001b[0mds\u001b[0m\u001b[0;34m:\u001b[0m\u001b[0;34m\u001b[0m\u001b[0;34m\u001b[0m\u001b[0m\n\u001b[0;32m---> 10\u001b[0;31m             \u001b[0mdf\u001b[0m\u001b[0;34m.\u001b[0m\u001b[0mloc\u001b[0m\u001b[0;34m[\u001b[0m\u001b[0mdf\u001b[0m\u001b[0;34m[\u001b[0m\u001b[0;34m'interview_date_parsed'\u001b[0m\u001b[0;34m]\u001b[0m \u001b[0;34m==\u001b[0m \u001b[0md\u001b[0m\u001b[0;34m,\u001b[0m \u001b[0mval_col\u001b[0m\u001b[0;34m]\u001b[0m \u001b[0;34m=\u001b[0m \u001b[0;34m[\u001b[0m\u001b[0mx\u001b[0m\u001b[0;34m[\u001b[0m\u001b[0;36m0\u001b[0m\u001b[0;34m]\u001b[0m \u001b[0;32mfor\u001b[0m \u001b[0mx\u001b[0m \u001b[0;32min\u001b[0m \u001b[0mds\u001b[0m\u001b[0;34m.\u001b[0m\u001b[0msample\u001b[0m\u001b[0;34m(\u001b[0m\u001b[0mcoords\u001b[0m\u001b[0;34m,\u001b[0m \u001b[0mmasked\u001b[0m\u001b[0;34m=\u001b[0m\u001b[0;32mTrue\u001b[0m\u001b[0;34m)\u001b[0m\u001b[0;34m]\u001b[0m\u001b[0;34m\u001b[0m\u001b[0;34m\u001b[0m\u001b[0m\n\u001b[0m\u001b[1;32m     11\u001b[0m     \u001b[0mprint\u001b[0m\u001b[0;34m(\u001b[0m\u001b[0;34m\"\"\u001b[0m\u001b[0;34m)\u001b[0m\u001b[0;34m\u001b[0m\u001b[0;34m\u001b[0m\u001b[0m\n\u001b[1;32m     12\u001b[0m     \u001b[0mdf\u001b[0m\u001b[0;34m.\u001b[0m\u001b[0mloc\u001b[0m\u001b[0;34m[\u001b[0m\u001b[0mdf\u001b[0m\u001b[0;34m[\u001b[0m\u001b[0;34m'interview_date_parsed'\u001b[0m\u001b[0;34m]\u001b[0m \u001b[0;34m==\u001b[0m \u001b[0md\u001b[0m\u001b[0;34m,\u001b[0m \u001b[0;34m'_done'\u001b[0m\u001b[0;34m]\u001b[0m \u001b[0;34m=\u001b[0m \u001b[0;32mTrue\u001b[0m\u001b[0;34m\u001b[0m\u001b[0;34m\u001b[0m\u001b[0m\n",
      "\u001b[0;32m<ipython-input-26-a5c03ce5af3d>\u001b[0m in \u001b[0;36m<listcomp>\u001b[0;34m(.0)\u001b[0m\n\u001b[1;32m      8\u001b[0m         \u001b[0mval_col\u001b[0m \u001b[0;34m=\u001b[0m \u001b[0;34mf\"val_{i}\"\u001b[0m\u001b[0;34m\u001b[0m\u001b[0;34m\u001b[0m\u001b[0m\n\u001b[1;32m      9\u001b[0m         \u001b[0;32mwith\u001b[0m \u001b[0mc2\u001b[0m\u001b[0;34m.\u001b[0m\u001b[0mGetSumDataset\u001b[0m\u001b[0;34m(\u001b[0m\u001b[0mdate_from\u001b[0m\u001b[0;34m,\u001b[0m \u001b[0mdate_to\u001b[0m\u001b[0;34m)\u001b[0m \u001b[0;32mas\u001b[0m \u001b[0mds\u001b[0m\u001b[0;34m:\u001b[0m\u001b[0;34m\u001b[0m\u001b[0;34m\u001b[0m\u001b[0m\n\u001b[0;32m---> 10\u001b[0;31m             \u001b[0mdf\u001b[0m\u001b[0;34m.\u001b[0m\u001b[0mloc\u001b[0m\u001b[0;34m[\u001b[0m\u001b[0mdf\u001b[0m\u001b[0;34m[\u001b[0m\u001b[0;34m'interview_date_parsed'\u001b[0m\u001b[0;34m]\u001b[0m \u001b[0;34m==\u001b[0m \u001b[0md\u001b[0m\u001b[0;34m,\u001b[0m \u001b[0mval_col\u001b[0m\u001b[0;34m]\u001b[0m \u001b[0;34m=\u001b[0m \u001b[0;34m[\u001b[0m\u001b[0mx\u001b[0m\u001b[0;34m[\u001b[0m\u001b[0;36m0\u001b[0m\u001b[0;34m]\u001b[0m \u001b[0;32mfor\u001b[0m \u001b[0mx\u001b[0m \u001b[0;32min\u001b[0m \u001b[0mds\u001b[0m\u001b[0;34m.\u001b[0m\u001b[0msample\u001b[0m\u001b[0;34m(\u001b[0m\u001b[0mcoords\u001b[0m\u001b[0;34m,\u001b[0m \u001b[0mmasked\u001b[0m\u001b[0;34m=\u001b[0m\u001b[0;32mTrue\u001b[0m\u001b[0;34m)\u001b[0m\u001b[0;34m]\u001b[0m\u001b[0;34m\u001b[0m\u001b[0;34m\u001b[0m\u001b[0m\n\u001b[0m\u001b[1;32m     11\u001b[0m     \u001b[0mprint\u001b[0m\u001b[0;34m(\u001b[0m\u001b[0;34m\"\"\u001b[0m\u001b[0;34m)\u001b[0m\u001b[0;34m\u001b[0m\u001b[0;34m\u001b[0m\u001b[0m\n\u001b[1;32m     12\u001b[0m     \u001b[0mdf\u001b[0m\u001b[0;34m.\u001b[0m\u001b[0mloc\u001b[0m\u001b[0;34m[\u001b[0m\u001b[0mdf\u001b[0m\u001b[0;34m[\u001b[0m\u001b[0;34m'interview_date_parsed'\u001b[0m\u001b[0;34m]\u001b[0m \u001b[0;34m==\u001b[0m \u001b[0md\u001b[0m\u001b[0;34m,\u001b[0m \u001b[0;34m'_done'\u001b[0m\u001b[0;34m]\u001b[0m \u001b[0;34m=\u001b[0m \u001b[0;32mTrue\u001b[0m\u001b[0;34m\u001b[0m\u001b[0;34m\u001b[0m\u001b[0m\n",
      "\u001b[0;32m~/anaconda3/envs/geodev_38/lib/python3.8/site-packages/rasterio/sample.py\u001b[0m in \u001b[0;36msample_gen\u001b[0;34m(dataset, xy, indexes, masked)\u001b[0m\n\u001b[1;32m     40\u001b[0m     \u001b[0;32mfor\u001b[0m \u001b[0mx\u001b[0m\u001b[0;34m,\u001b[0m \u001b[0my\u001b[0m \u001b[0;32min\u001b[0m \u001b[0mxy\u001b[0m\u001b[0;34m:\u001b[0m\u001b[0;34m\u001b[0m\u001b[0;34m\u001b[0m\u001b[0m\n\u001b[1;32m     41\u001b[0m \u001b[0;34m\u001b[0m\u001b[0m\n\u001b[0;32m---> 42\u001b[0;31m         \u001b[0mrow_off\u001b[0m\u001b[0;34m,\u001b[0m \u001b[0mcol_off\u001b[0m \u001b[0;34m=\u001b[0m \u001b[0mindex\u001b[0m\u001b[0;34m(\u001b[0m\u001b[0mx\u001b[0m\u001b[0;34m,\u001b[0m \u001b[0my\u001b[0m\u001b[0;34m)\u001b[0m\u001b[0;34m\u001b[0m\u001b[0;34m\u001b[0m\u001b[0m\n\u001b[0m\u001b[1;32m     43\u001b[0m \u001b[0;34m\u001b[0m\u001b[0m\n\u001b[1;32m     44\u001b[0m         \u001b[0;32mif\u001b[0m \u001b[0mrow_off\u001b[0m \u001b[0;34m<\u001b[0m \u001b[0;36m0\u001b[0m \u001b[0;32mor\u001b[0m \u001b[0mcol_off\u001b[0m \u001b[0;34m<\u001b[0m \u001b[0;36m0\u001b[0m \u001b[0;32mor\u001b[0m \u001b[0mrow_off\u001b[0m \u001b[0;34m>=\u001b[0m \u001b[0mdataset\u001b[0m\u001b[0;34m.\u001b[0m\u001b[0mheight\u001b[0m \u001b[0;32mor\u001b[0m \u001b[0mcol_off\u001b[0m \u001b[0;34m>=\u001b[0m \u001b[0mdataset\u001b[0m\u001b[0;34m.\u001b[0m\u001b[0mwidth\u001b[0m\u001b[0;34m:\u001b[0m\u001b[0;34m\u001b[0m\u001b[0;34m\u001b[0m\u001b[0m\n",
      "\u001b[0;32m~/anaconda3/envs/geodev_38/lib/python3.8/site-packages/rasterio/transform.py\u001b[0m in \u001b[0;36mindex\u001b[0;34m(self, x, y, op, precision)\u001b[0m\n\u001b[1;32m     75\u001b[0m             \u001b[0;34m(\u001b[0m\u001b[0mrow\u001b[0m \u001b[0mindex\u001b[0m\u001b[0;34m,\u001b[0m \u001b[0mcol\u001b[0m \u001b[0mindex\u001b[0m\u001b[0;34m)\u001b[0m\u001b[0;34m\u001b[0m\u001b[0;34m\u001b[0m\u001b[0m\n\u001b[1;32m     76\u001b[0m         \"\"\"\n\u001b[0;32m---> 77\u001b[0;31m         \u001b[0;32mreturn\u001b[0m \u001b[0mrowcol\u001b[0m\u001b[0;34m(\u001b[0m\u001b[0mself\u001b[0m\u001b[0;34m.\u001b[0m\u001b[0mtransform\u001b[0m\u001b[0;34m,\u001b[0m \u001b[0mx\u001b[0m\u001b[0;34m,\u001b[0m \u001b[0my\u001b[0m\u001b[0;34m,\u001b[0m \u001b[0mop\u001b[0m\u001b[0;34m=\u001b[0m\u001b[0mop\u001b[0m\u001b[0;34m,\u001b[0m \u001b[0mprecision\u001b[0m\u001b[0;34m=\u001b[0m\u001b[0mprecision\u001b[0m\u001b[0;34m)\u001b[0m\u001b[0;34m\u001b[0m\u001b[0;34m\u001b[0m\u001b[0m\n\u001b[0m\u001b[1;32m     78\u001b[0m \u001b[0;34m\u001b[0m\u001b[0m\n\u001b[1;32m     79\u001b[0m \u001b[0;34m\u001b[0m\u001b[0m\n",
      "\u001b[0;32m~/anaconda3/envs/geodev_38/lib/python3.8/site-packages/rasterio/transform.py\u001b[0m in \u001b[0;36mrowcol\u001b[0;34m(transform, xs, ys, op, precision)\u001b[0m\n\u001b[1;32m    242\u001b[0m     \u001b[0;32mfor\u001b[0m \u001b[0mx\u001b[0m\u001b[0;34m,\u001b[0m \u001b[0my\u001b[0m \u001b[0;32min\u001b[0m \u001b[0mzip\u001b[0m\u001b[0;34m(\u001b[0m\u001b[0mxs\u001b[0m\u001b[0;34m,\u001b[0m \u001b[0mys\u001b[0m\u001b[0;34m)\u001b[0m\u001b[0;34m:\u001b[0m\u001b[0;34m\u001b[0m\u001b[0;34m\u001b[0m\u001b[0m\n\u001b[1;32m    243\u001b[0m         \u001b[0mfcol\u001b[0m\u001b[0;34m,\u001b[0m \u001b[0mfrow\u001b[0m \u001b[0;34m=\u001b[0m \u001b[0minvtransform\u001b[0m \u001b[0;34m*\u001b[0m \u001b[0;34m(\u001b[0m\u001b[0mx\u001b[0m \u001b[0;34m+\u001b[0m \u001b[0meps\u001b[0m\u001b[0;34m,\u001b[0m \u001b[0my\u001b[0m \u001b[0;34m-\u001b[0m \u001b[0meps\u001b[0m\u001b[0;34m)\u001b[0m\u001b[0;34m\u001b[0m\u001b[0;34m\u001b[0m\u001b[0m\n\u001b[0;32m--> 244\u001b[0;31m         \u001b[0mcols\u001b[0m\u001b[0;34m.\u001b[0m\u001b[0mappend\u001b[0m\u001b[0;34m(\u001b[0m\u001b[0mop\u001b[0m\u001b[0;34m(\u001b[0m\u001b[0mfcol\u001b[0m\u001b[0;34m)\u001b[0m\u001b[0;34m)\u001b[0m\u001b[0;34m\u001b[0m\u001b[0;34m\u001b[0m\u001b[0m\n\u001b[0m\u001b[1;32m    245\u001b[0m         \u001b[0mrows\u001b[0m\u001b[0;34m.\u001b[0m\u001b[0mappend\u001b[0m\u001b[0;34m(\u001b[0m\u001b[0mop\u001b[0m\u001b[0;34m(\u001b[0m\u001b[0mfrow\u001b[0m\u001b[0;34m)\u001b[0m\u001b[0;34m)\u001b[0m\u001b[0;34m\u001b[0m\u001b[0;34m\u001b[0m\u001b[0m\n\u001b[1;32m    246\u001b[0m \u001b[0;34m\u001b[0m\u001b[0m\n",
      "\u001b[0;31mValueError\u001b[0m: cannot convert float NaN to integer"
     ]
    }
   ],
   "source": [
    "for n_done, d in enumerate(unique_dates):\n",
    "    grp = df.loc[df['interview_date_parsed'] == d][['lat','lon']]\n",
    "    coords = list(zip(grp['lon'], grp['lat']))\n",
    "    print(f\"Step {n_done}: {d} ({len(coords)}): \",end=\"\")\n",
    "    for i in range(1,14):\n",
    "        print(f\"{i}...\",end=\"\")\n",
    "        date_from, date_to = get_from_to(d, i)\n",
    "        val_col = f\"val_{i}\"\n",
    "        with c2.GetSumDataset(date_from, date_to) as ds:\n",
    "            df.loc[df['interview_date_parsed'] == d, val_col] = [x[0] for x in ds.sample(coords, masked=True)]\n",
    "    print(\"\")\n",
    "    df.loc[df['interview_date_parsed'] == d, '_done'] = True\n",
    "    if n_done % 10 == 0:\n",
    "        df.loc[df['_done']==True].to_csv(os.path.join(_folder, \"intermediate_res.csv\"))"
   ]
  },
  {
   "cell_type": "code",
   "execution_count": 36,
   "metadata": {},
   "outputs": [
    {
     "name": "stdout",
     "output_type": "stream",
     "text": [
      "INFO: Pandarallel will run on 10 workers.\n",
      "INFO: Pandarallel will use Memory file system to transfer data between the main process and workers.\n"
     ]
    }
   ],
   "source": [
    "from pandarallel import pandarallel\n",
    "pandarallel.initialize(nb_workers=10, progress_bar=True, use_memory_fs=True)"
   ]
  },
  {
   "cell_type": "code",
   "execution_count": null,
   "metadata": {},
   "outputs": [],
   "source": []
  }
 ],
 "metadata": {
  "kernelspec": {
   "display_name": "Python 3",
   "language": "python",
   "name": "python3"
  },
  "language_info": {
   "codemirror_mode": {
    "name": "ipython",
    "version": 3
   },
   "file_extension": ".py",
   "mimetype": "text/x-python",
   "name": "python",
   "nbconvert_exporter": "python",
   "pygments_lexer": "ipython3",
   "version": "3.8.6"
  }
 },
 "nbformat": 4,
 "nbformat_minor": 4
}
